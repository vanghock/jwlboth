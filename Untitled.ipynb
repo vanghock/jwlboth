{
 "cells": [
  {
   "cell_type": "code",
   "execution_count": 2,
   "id": "047bb429-59fb-4206-a680-4681d60df0c0",
   "metadata": {},
   "outputs": [
    {
     "name": "stdout",
     "output_type": "stream",
     "text": [
      "Cloning into 'Pytorch-UNet'...\n",
      "remote: Enumerating objects: 595, done.\u001b[K\n",
      "remote: Counting objects: 100% (3/3), done.\u001b[K\n",
      "remote: Compressing objects: 100% (3/3), done.\u001b[K\n",
      "remote: Total 595 (delta 0), reused 2 (delta 0), pack-reused 592\u001b[K\n",
      "Receiving objects: 100% (595/595), 47.42 MiB | 19.89 MiB/s, done.\n",
      "Resolving deltas: 100% (315/315), done.\n"
     ]
    }
   ],
   "source": [
    "!git clone https://github.com/milesial/Pytorch-UNet"
   ]
  },
  {
   "cell_type": "code",
   "execution_count": null,
   "id": "8d8f3808-6754-47ae-ace3-558b47acb9fe",
   "metadata": {},
   "outputs": [],
   "source": []
  }
 ],
 "metadata": {
  "kernelspec": {
   "display_name": "Python 3 (ipykernel)",
   "language": "python",
   "name": "python3"
  },
  "language_info": {
   "codemirror_mode": {
    "name": "ipython",
    "version": 3
   },
   "file_extension": ".py",
   "mimetype": "text/x-python",
   "name": "python",
   "nbconvert_exporter": "python",
   "pygments_lexer": "ipython3",
   "version": "3.9.16"
  }
 },
 "nbformat": 4,
 "nbformat_minor": 5
}
